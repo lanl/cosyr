{
 "cells": [
  {
   "cell_type": "code",
   "execution_count": 1,
   "id": "64b468c0-ef97-48ac-9cc2-c7e95256f6e1",
   "metadata": {},
   "outputs": [],
   "source": [
    "import numpy as np\n",
    "import sys  \n",
    "import os\n",
    "sys.path.insert(0, os.path.expanduser('~')+'/Work/cosyr_github/cosyr/')"
   ]
  },
  {
   "cell_type": "code",
   "execution_count": 2,
   "id": "0b4d0a13-cb30-4f0f-ae27-693a8969b40c",
   "metadata": {},
   "outputs": [],
   "source": [
    "%matplotlib inline\n",
    "import matplotlib.pyplot as plt"
   ]
  },
  {
   "cell_type": "markdown",
   "id": "c1fba3ab-3de1-480a-9eb2-b04014565ab6",
   "metadata": {},
   "source": [
    "# Define variables exposed to input deck"
   ]
  },
  {
   "cell_type": "code",
   "execution_count": 3,
   "id": "ef68ca10-05fa-4e59-9394-6677ba439b25",
   "metadata": {},
   "outputs": [],
   "source": [
    "mpi_rank = 1 ## use non-zero rank to avoid making actual output directories\n",
    "remap_scaling = np.array([1.0,1.0])\n",
    "parameters = np.array([0.0,0.0])"
   ]
  },
  {
   "cell_type": "code",
   "execution_count": 4,
   "id": "4b267d8d-5640-454e-a58e-832a1cc5f4d9",
   "metadata": {},
   "outputs": [
    {
     "name": "stdout",
     "output_type": "stream",
     "text": [
      "gradient_1d dist: 0.0005999999999999998 0.0429817559180635\n"
     ]
    }
   ],
   "source": [
    "%run -i './test_beam_remap_adap_grad.py'"
   ]
  },
  {
   "cell_type": "code",
   "execution_count": 5,
   "id": "2911bc83-6901-4c3e-a6d7-75da72ec0865",
   "metadata": {},
   "outputs": [
    {
     "name": "stdout",
     "output_type": "stream",
     "text": [
      "(990,) (990,)\n"
     ]
    }
   ],
   "source": [
    "print(wavelet_x.shape, wavelet_field.shape)"
   ]
  },
  {
   "cell_type": "markdown",
   "id": "68b083a7-cb78-4509-b263-fac8dc542b56",
   "metadata": {},
   "source": [
    "# Check wavelets distribution and density"
   ]
  },
  {
   "cell_type": "code",
   "execution_count": 11,
   "id": "e365e579-b2ab-4f02-90b3-46e9c6604fa5",
   "metadata": {},
   "outputs": [
    {
     "data": {
      "text/plain": [
       "Text(0, 0.5, 'kernel')"
      ]
     },
     "execution_count": 11,
     "metadata": {},
     "output_type": "execute_result"
    },
    {
     "data": {
      "image/png": "[encoded data removed]",
      "text/plain": [
       "<Figure size 432x288 with 1 Axes>"
      ]
     },
     "metadata": {
      "needs_background": "light"
     },
     "output_type": "display_data"
    }
   ],
   "source": [
    "plt.figure()\n",
    "#plt.scatter(wavelet_x, wavelet_y, c=wavelet_field[2,:], cmap=\"jet\")\n",
    "plt.plot(wavelet_x*gamma**3.0, wavelet_field, \".\")\n",
    "plt.xlabel(r\"$\\alpha \\gamma^3$\")\n",
    "plt.ylabel(\"kernel\")"
   ]
  },
  {
   "cell_type": "code",
   "execution_count": 12,
   "id": "cf1beeff-533c-46d9-b6e6-af38a4e61967",
   "metadata": {},
   "outputs": [
    {
     "data": {
      "text/plain": [
       "Text(0, 0.5, 'wavelet density')"
      ]
     },
     "execution_count": 12,
     "metadata": {},
     "output_type": "execute_result"
    },
    {
     "data": {
      "image/png": "[encoded data removed]",
      "text/plain": [
       "<Figure size 432x288 with 1 Axes>"
      ]
     },
     "metadata": {
      "needs_background": "light"
     },
     "output_type": "display_data"
    }
   ],
   "source": [
    "wt_den, edges = np.histogram(wavelet_x*gamma**3.0, bins=30)\n",
    "plt.figure()\n",
    "plt.plot(edges[:-1], wt_den)\n",
    "plt.xlabel(r\"$\\alpha \\gamma^3$\")\n",
    "plt.ylabel(\"wavelet density\")"
   ]
  },
  {
   "cell_type": "code",
   "execution_count": null,
   "id": "7d740da7-9e80-4094-9b63-9e3d58f5fe05",
   "metadata": {},
   "outputs": [],
   "source": []
  }
 ],
 "metadata": {
  "kernelspec": {
   "display_name": "Python 3",
   "language": "python",
   "name": "python3"
  },
  "language_info": {
   "codemirror_mode": {
    "name": "ipython",
    "version": 3
   },
   "file_extension": ".py",
   "mimetype": "text/x-python",
   "name": "python",
   "nbconvert_exporter": "python",
   "pygments_lexer": "ipython3",
   "version": "3.7.4"
  }
 },
 "nbformat": 4,
 "nbformat_minor": 5
}
