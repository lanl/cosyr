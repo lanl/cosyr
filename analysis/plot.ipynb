{
 "cells": [
  {
   "cell_type": "markdown",
   "metadata": {},
   "source": [
    "# Plot simulation data"
   ]
  },
  {
   "cell_type": "code",
   "execution_count": 3,
   "metadata": {},
   "outputs": [],
   "source": [
    "%matplotlib qt"
   ]
  },
  {
   "cell_type": "code",
   "execution_count": 4,
   "metadata": {},
   "outputs": [],
   "source": [
    "import matplotlib.pyplot as plt\n",
    "import numpy as np\n",
    "from scipy.interpolate import griddata\n",
    "import matplotlib.tri as tri"
   ]
  },
  {
   "cell_type": "markdown",
   "metadata": {},
   "source": [
    "### Load data"
   ]
  },
  {
   "cell_type": "code",
   "execution_count": 5,
   "metadata": {},
   "outputs": [],
   "source": [
    "data_folder=\"../../build/data/\"\n",
    "particleid=\"_0\"\n",
    "pos_x, pos_y = np.loadtxt(data_folder + 'wavefronts'+particleid+'.csv', delimiter=',', unpack=True)\n",
    "traj_x, traj_y = np.loadtxt(data_folder + 'trajectory'+particleid+'.csv', delimiter=',', unpack=True)\n",
    "m_pos_x, m_pos_y = np.loadtxt(data_folder + 'comoving_mesh_pos.csv', delimiter=',', unpack=True)\n",
    "vfld, afld, tf = np.loadtxt(data_folder + 'field'+particleid+'.csv', delimiter=',', unpack=True)\n",
    "atil, xtil ,tot= np.loadtxt(data_folder +'comoving_mesh_rad_ang.csv', delimiter=',', unpack=True)\n",
    "vel_f, acc_f, tot_f = np.loadtxt(data_folder + 'comoving_mesh_field.csv', delimiter=',', unpack=True)\n",
    "#a, x, tot = np.loadtxt('fields.csv', delimiter=',', unpack=True)\n",
    "\n",
    "xmin = m_pos_x.min(); xmax = m_pos_x.max()\n",
    "ymin = m_pos_y.min(); ymax = m_pos_y.max()"
   ]
  },
  {
   "cell_type": "markdown",
   "metadata": {},
   "source": [
    "### Plot wavefronts"
   ]
  },
  {
   "cell_type": "code",
   "execution_count": 6,
   "metadata": {},
   "outputs": [],
   "source": [
    "# \n",
    "ndir =200\n",
    "nwavefront=3000\n",
    "plot_every = 5\n",
    "wave_x = pos_x.reshape([nwavefront,ndir]).transpose()\n",
    "wave_y = pos_y.reshape([nwavefront,ndir]).transpose()\n",
    "#lastwave_x=pos_x[16500:17000]\n",
    "#lastwave_y=pos_y[16500:17000]\n",
    "\n",
    "fig, ax= plt.subplots()\n",
    "\n",
    "#ax.scatter(pos_x,pos_y, s=1, facecolor='lightseagreen', label=\"wavefronts\")\n",
    "#ax.scatter(lastwave_x,lastwave_y, s=1, facecolor='darkorange', label=\"last_time_step\")\n",
    "\n",
    "ax.plot(wave_x[:, ::plot_every],wave_y[:, ::plot_every],\".:\")\n",
    "#ax.scatter(traj_x,traj_y, s=2, marker=\"+\", facecolor='brown', label=\"trajectory\")\n",
    "# position centered at the time of emission\n",
    "ax.scatter((traj_x+np.roll(traj_x,1))[1:]/2.0, (traj_y+np.roll(traj_y,1))[1:]/2.0, s=20, marker=\"+\", facecolor='brown', label=\"trajectory\")\n",
    "\n",
    "plt.xlim(xmin, xmax)\n",
    "plt.ylim(ymin, ymax)\n",
    "plt.xlabel('x')\n",
    "plt.ylabel('y')\n",
    "plt.title('traj and wavefronts')\n",
    "l = plt.legend(loc='upper right')\n",
    "ax.grid(True)\n",
    "plt.show()\n",
    "plt.savefig('csr_wavefronts.png')\n"
   ]
  },
  {
   "cell_type": "code",
   "execution_count": 7,
   "metadata": {},
   "outputs": [
    {
     "name": "stdout",
     "output_type": "stream",
     "text": [
      "0.294037916583 0.955809059105\n"
     ]
    }
   ],
   "source": [
    "print(traj_x[-1],traj_y[-1])"
   ]
  },
  {
   "cell_type": "markdown",
   "metadata": {},
   "source": [
    "### Plot mesh"
   ]
  },
  {
   "cell_type": "code",
   "execution_count": 8,
   "metadata": {},
   "outputs": [],
   "source": [
    "firstwave_x = pos_x[:200]\n",
    "firstwave_y = pos_y[:200]\n",
    "\n",
    "fig, ax= plt.subplots()\n",
    "ax.scatter(m_pos_x,m_pos_y, s=18, facecolor='orangered', label=\"Moving mesh\")\n",
    "ax.scatter(pos_x,pos_y, s=4, facecolor='teal', label=\"Wavefronts\")\n",
    "#ax.scatter(traj_x,traj_y, s=15, facecolor='black', label=\"Tracjectory\")\n",
    "ax.scatter((traj_x+np.roll(traj_x,1))[1:]/2.0, (traj_y+np.roll(traj_y,1))[1:]/2.0, s=20, marker=\"+\", facecolor='brown', label=\"trajectory\")\n",
    "#ax.scatter(firstwave_x,firstwave_y, s=60, facecolor='orangered', label=\"First_time_step\")\n",
    "#ax.tick_params(labelsize=30)\n",
    "\n",
    "plt.xlim(xmin, xmax)\n",
    "plt.ylim(ymin, ymax)\n",
    "#plt.axis('equal')\n",
    "plt.xlabel('x')\n",
    "plt.ylabel('y')\n",
    "plt.title('Co-moving mesh with the wavefronts',fontsize=25)\n",
    "l = plt.legend(loc='upper right')\n",
    "ax.grid(True)\n",
    "plt.legend(loc='upper right', prop={'size': 20})\n",
    "plt.show()\n",
    "plt.savefig('csr_mesh.png')"
   ]
  },
  {
   "cell_type": "markdown",
   "metadata": {},
   "source": [
    "### Plot field"
   ]
  },
  {
   "cell_type": "code",
   "execution_count": 9,
   "metadata": {},
   "outputs": [],
   "source": [
    "gamma = 10\n",
    "tf_n=tf/(gamma**4.0)\n",
    "vf_n=vfld/(gamma**4.0)\n",
    "af_n=afld/(gamma**4.0)\n",
    "f_n = tf_n\n",
    "\n",
    "fig, ax= plt.subplots()\n",
    "#fig = plt.figure()\n",
    "#ax = fig.add_subplot(111, projection='3d')\n",
    "#ax.scatter(pos_x, pos_y, tf_n,  marker='o')\n",
    "\n",
    "cm = plt.cm.get_cmap('coolwarm')\n",
    "#sc=ax.scatter(pos_x,pos_y,c=tf_n, marker='.',s=3,cmap=cm )\n",
    "\n",
    "sc=ax.scatter(pos_x,pos_y,c=f_n,vmin=-6,vmax=6, marker='o',s=40,cmap=cm )\n",
    "#sc=ax.scatter(pos_x,pos_y,c=f_n, marker='o',s=40,cmap=cm )\n",
    "plt.colorbar(sc)           \n",
    "#ax.set_facecolor('grey')\n",
    "plt.xlim(xmin, xmax)\n",
    "plt.ylim(ymin, ymax)\n",
    "plt.xlabel('x')\n",
    "plt.ylabel('y')\n",
    "plt.rc('xtick',labelsize=25)\n",
    "plt.rc('ytick',labelsize=25)\n",
    "ax.tick_params(labelsize=30)\n",
    "plt.title('Normalized total field',fontsize=25)\n",
    "#plt.legend(loc='upper right', prop={'size': 25})\n",
    "ax.grid(True)\n",
    "plt.show()\n",
    "plt.savefig('csr_circular_field.png')"
   ]
  },
  {
   "cell_type": "markdown",
   "metadata": {},
   "source": [
    "### Plot interpolated field"
   ]
  },
  {
   "cell_type": "code",
   "execution_count": 10,
   "metadata": {},
   "outputs": [
    {
     "name": "stdout",
     "output_type": "stream",
     "text": [
      "-0.04 0.0\n"
     ]
    }
   ],
   "source": [
    "gamma = 10\n",
    "nr = 101; ntheta=101\n",
    "tf_n=tot/(gamma**4.0)\n",
    "vf_n=vel_f/(gamma**4.0)\n",
    "af_n=acc_f/(gamma**4.0)\n",
    "f_n = tf_n/100\n",
    "f_n_arr = f_n.reshape([ntheta,nr]).transpose()\n",
    "print(f_n.min(),f_n.max())\n",
    "\n",
    "fig, ax= plt.subplots(1)\n",
    "\n",
    "cm = plt.cm.get_cmap('coolwarm')\n",
    "#coolwarm\n",
    "#sc = ax.scatter( xtil, atil, c=f_n, vmin=-5, vmax=5, marker='.', s=5, cmap=cm ) \n",
    "#sc = ax.imshow( f_n_arr, vmin=-6, vmax=6, cmap=cm, aspect=\"auto\",origin=\"upper\" )\n",
    "#sc = ax.imshow( f_n_arr, cmap=cm, aspect=\"auto\" )\n",
    "sc = ax.scatter(m_pos_x,m_pos_y, c=f_n, vmin=-6, vmax=6, marker='.', s=10, cmap=cm )\n",
    "plt.xlim(xmin, xmax)\n",
    "plt.ylim(ymin, ymax)\n",
    "plt.colorbar(sc)\n",
    "ax.set_facecolor('grey' )\n",
    "plt.xlabel('x')\n",
    "plt.ylabel('y')\n",
    "plt.title('field on the mesh ')\n",
    "#l = plt.legend(loc='upper right')\n",
    "ax.grid(True)\n",
    "plt.show()\n",
    "plt.savefig('csr_mesh_field_rad_ang.png')"
   ]
  },
  {
   "cell_type": "markdown",
   "metadata": {},
   "source": [
    "### Benchmark"
   ]
  },
  {
   "cell_type": "code",
   "execution_count": 12,
   "metadata": {},
   "outputs": [
    {
     "ename": "NameError",
     "evalue": "name 'a' is not defined",
     "output_type": "error",
     "traceback": [
      "\u001b[0;31m---------------------------------------------------------------------------\u001b[0m",
      "\u001b[0;31mNameError\u001b[0m                                 Traceback (most recent call last)",
      "\u001b[0;32m<ipython-input-12-b5494984a952>\u001b[0m in \u001b[0;36m<module>\u001b[0;34m\u001b[0m\n\u001b[1;32m      2\u001b[0m \u001b[0mgamma\u001b[0m\u001b[0;34m=\u001b[0m\u001b[0;36m10\u001b[0m\u001b[0;34m\u001b[0m\u001b[0;34m\u001b[0m\u001b[0m\n\u001b[1;32m      3\u001b[0m \u001b[0mtf_n\u001b[0m\u001b[0;34m=\u001b[0m\u001b[0mtot\u001b[0m\u001b[0;34m/\u001b[0m\u001b[0;34m-\u001b[0m\u001b[0mgamma\u001b[0m\u001b[0;34m**\u001b[0m\u001b[0;36m4\u001b[0m\u001b[0;34m\u001b[0m\u001b[0;34m\u001b[0m\u001b[0m\n\u001b[0;32m----> 4\u001b[0;31m \u001b[0ma\u001b[0m\u001b[0;34m=\u001b[0m\u001b[0;34m-\u001b[0m\u001b[0ma\u001b[0m\u001b[0;34m/\u001b[0m\u001b[0;36m180\u001b[0m\u001b[0;34m*\u001b[0m\u001b[0mnp\u001b[0m\u001b[0;34m.\u001b[0m\u001b[0mpi\u001b[0m\u001b[0;34m\u001b[0m\u001b[0;34m\u001b[0m\u001b[0m\n\u001b[0m\u001b[1;32m      5\u001b[0m \u001b[0mx\u001b[0m\u001b[0;34m=\u001b[0m\u001b[0mx\u001b[0m\u001b[0;34m\u001b[0m\u001b[0;34m\u001b[0m\u001b[0m\n\u001b[1;32m      6\u001b[0m \u001b[0mcm\u001b[0m \u001b[0;34m=\u001b[0m \u001b[0mplt\u001b[0m\u001b[0;34m.\u001b[0m\u001b[0mcm\u001b[0m\u001b[0;34m.\u001b[0m\u001b[0mget_cmap\u001b[0m\u001b[0;34m(\u001b[0m\u001b[0;34m'coolwarm'\u001b[0m\u001b[0;34m)\u001b[0m\u001b[0;34m\u001b[0m\u001b[0;34m\u001b[0m\u001b[0m\n",
      "\u001b[0;31mNameError\u001b[0m: name 'a' is not defined"
     ]
    }
   ],
   "source": [
    "fig=plt.figure(1)\n",
    "gamma=10\n",
    "tf_n=tot/-gamma**4\n",
    "a=-a/180*np.pi\n",
    "x=x\n",
    "cm = plt.cm.get_cmap('coolwarm')\n",
    "#sc = ax.scatter(x, a, c=tf_n, marker='o', s=5, cmap=cm ) \n",
    "#sc = plt.scatter(a, x, c=tf_n, vmin=-10, vmax=10, marker='o', s=1, cmap=cm )\n",
    "sc = plt.scatter(a, x, c=tf_n, marker='o', s=1, cmap=cm )\n",
    "#ax = fig.add_subplot(111)\n",
    "plt.colorbar(sc)\n",
    "#ax.set_facecolor('grey' )\n",
    "xx=0.005\n",
    "aa=0.0005\n",
    "plt.ylim([-xx,xx]) \n",
    "plt.xlim([-aa,aa])\n",
    "plt.ylabel('x')\n",
    "plt.xlabel('a')\n",
    "#plt.title('field on the wavefronts')\n",
    "#l = plt.legend(loc='upper right')\n",
    "plt.grid(True)\n",
    "#plt.show()\n",
    "#plt.savefig('csr_mesh_field.png')\n",
    "\n",
    "# define grid.\n",
    "#pos =np.array([x, a]).T\n",
    "#grid_x, grid_a = np.mgrid[-0.05:0.05:500j, -0.005:0.005:500j]\n",
    "#grid_z0 = griddata( pos, tf_n, (grid_x, grid_a), method='nearest')\n",
    "\n",
    "plt.figure(2)\n",
    "# define grid.                                                                                                                                                                      \n",
    "#xi = np.linspace(-0.01,0.01,100)\n",
    "#ai = np.linspace(-0.01,0.01,100)\n",
    "xi = np.linspace(-0.005,0.005,100)\n",
    "ai = np.linspace(-0.0005,0.0005,100)\n",
    "pos =np.array([a, x]).T\n",
    "# grid the data.\n",
    "zi = griddata((a, x), tf_n, (ai[None,:], xi[:,None]), method='linear')\n",
    "# contour the gridded data, plotting dots at the randomly spaced data points.\n",
    "levels = np.linspace(-10.0, 10.0, 11)\n",
    "CS = plt.contour(ai,xi,zi,levels=levels,linewidths=0.7,colors='k')\n",
    "CS = plt.contourf(ai,xi,zi,levels=levels, cmap=plt.cm.jet)\n",
    "plt.colorbar() # draw colorbar\n",
    "# plot data points.\n",
    "#plt.scatter(x,a,marker='o',c='b',s=1)\n",
    "plt.ylim(-xx,xx)\n",
    "plt.xlim(-aa,aa)\n",
    "#plt.title('griddata test (%d points)' % npts)\n",
    "plt.show()"
   ]
  },
  {
   "cell_type": "code",
   "execution_count": null,
   "metadata": {},
   "outputs": [],
   "source": []
  },
  {
   "cell_type": "code",
   "execution_count": null,
   "metadata": {},
   "outputs": [],
   "source": []
  },
  {
   "cell_type": "code",
   "execution_count": null,
   "metadata": {},
   "outputs": [],
   "source": []
  }
 ],
 "metadata": {
  "file_extension": ".py",
  "kernelspec": {
   "display_name": "venv",
   "language": "python",
   "name": "venv"
  },
  "language_info": {
   "codemirror_mode": {
    "name": "ipython",
    "version": 3
   },
   "file_extension": ".py",
   "mimetype": "text/x-python",
   "name": "python",
   "nbconvert_exporter": "python",
   "pygments_lexer": "ipython3",
   "version": "3.7.3"
  },
  "mimetype": "text/x-python",
  "name": "python",
  "npconvert_exporter": "python",
  "pygments_lexer": "ipython2",
  "version": 2
 },
 "nbformat": 4,
 "nbformat_minor": 2
}
