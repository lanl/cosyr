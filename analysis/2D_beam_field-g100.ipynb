{
 "cells": [
  {
   "cell_type": "markdown",
   "metadata": {
    "ExecuteTime": {
     "end_time": "2021-04-25T03:09:34.421103Z",
     "start_time": "2021-04-25T03:09:33.381766Z"
    }
   },
   "source": [
    "# 2D benchmark for $\\gamma=100$ beams using field-only kernel"
   ]
  },
  {
   "cell_type": "markdown",
   "metadata": {},
   "source": [
    "In this notebook, 2D (i.e., in the bending plane) logitudinal and transverse CSR fields of a beam is benchmarked with those from a convolution with the beam density profile (obtained from a separate python script). The results are generated using the field-only kernel and the input deck used is input/test_beam_g100_l200.py. The fine time step used is to ensure that the transition of the trajectory between vacuum and dipole regions is resolved. It is recommended to use enough simulation particles (e.g., 1e6) to reduce the noise in the field. Note that the data loader in CosyrAnalyze automatically normalizes the data by $\\gamma^4$."
   ]
  },
  {
   "cell_type": "code",
   "execution_count": 1,
   "metadata": {
    "ExecuteTime": {
     "end_time": "2021-07-21T20:07:36.120161Z",
     "start_time": "2021-07-21T20:07:34.706322Z"
    }
   },
   "outputs": [],
   "source": [
    "%matplotlib widget\n",
    "import numpy as np\n",
    "import matplotlib.pyplot as plt\n",
    "import matplotlib as mpl\n",
    "import scipy\n",
    "from scipy import signal\n",
    "from numpy import linalg \n",
    "\n",
    "import CosyrAnalyze \n",
    "import seaborn as sns\n",
    "\n",
    "# plot setting \n",
    "mpl.rcParams['font.size'] = 16\n",
    "mpl.rcParams[\"mathtext.default\"] = \"it\"\n",
    "mpl.rcParams['mathtext.fontset'] = 'cm'\n",
    "\n",
    "#sns.plotting_context(\"poster\")\n",
    "sns.set_style(\"white\")\n",
    "#sns.axes_style({'font.family':'serif', 'font.serif':'Arial'})\n",
    "sns.set_style({'font.family':'sans-serif', 'font.sans-serif':'Latin Modern Roman', \"xtick.direction\": \"in\",\"ytick.direction\": \"in\"})\n",
    "#print(\"Using following seaborn style:\")\n",
    "#print(sns.axes_style())\n",
    "\n",
    "# scientific notation for numbers in axis labels\n",
    "def sci_format(limits=(-2, 3)):\n",
    "    fmt = mpl.ticker.ScalarFormatter(useMathText=True, useOffset=False)\n",
    "    fmt.set_powerlimits((limits[0], limits[1]))\n",
    "    return (fmt)\n",
    "\n",
    "def ellipse(xc, yc, hv, sample=100):\n",
    "    \"\"\"return x, y for an ellipse with center (xc, yc) and axes given by hv;\n",
    "    number of sampling points along the ellipse\";\n",
    "    \"\"\"\n",
    "    theta = np.linspace(0, 2.0*np.pi, sample)\n",
    "    ellip_x = hv[0]*np.cos(theta)+xc\n",
    "    ellip_y = hv[1]*np.sin(theta)+yc\n",
    "    \n",
    "    return (ellip_x, ellip_y)"
   ]
  },
  {
   "cell_type": "markdown",
   "metadata": {},
   "source": [
    "# Cosyr result analysis"
   ]
  },
  {
   "cell_type": "markdown",
   "metadata": {
    "ExecuteTime": {
     "end_time": "2021-04-22T04:39:41.362479Z",
     "start_time": "2021-04-22T04:39:41.359674Z"
    }
   },
   "source": [
    "## Load wavefronts and mesh"
   ]
  },
  {
   "cell_type": "code",
   "execution_count": 2,
   "metadata": {
    "ExecuteTime": {
     "end_time": "2021-07-21T20:07:38.028628Z",
     "start_time": "2021-07-21T20:07:38.019778Z"
    }
   },
   "outputs": [],
   "source": [
    "gamma = 100\n",
    "nalpha = 3001\n",
    "nchi = 51\n",
    "step = 99999\n",
    "particle_id = 0\n",
    "ndirs = 0\n",
    "R_bend = 1.0 # meter\n",
    "beam_charge = 0.01*1e-9  # Coulomb\n",
    "N = beam_charge/1.6e-19  # number of real particles in the beam\n",
    "sigma_s = 200.0e-6/R_bend * gamma**3.0 / 6.0\n",
    "sigma_x = 200.0e-6/R_bend * gamma**2.0 / 6.0\n",
    "s_axis_range = 12.0 * sigma_s\n",
    "x_axis_range = 12.0 * sigma_x\n",
    "\n",
    "beta = np.sqrt(1.0-gamma**(-2.0))\n",
    "e_cgs = 4.8032e-10 # statCoul\n",
    "R_cgs = R_bend*100 # cm\n",
    "\n",
    "cosyr_result_root = \"/global/homes/h/huangck/CFS/cosyr_results/test_beam_g100_l200_d200/\""
   ]
  },
  {
   "cell_type": "code",
   "execution_count": 3,
   "metadata": {
    "ExecuteTime": {
     "end_time": "2021-07-21T20:07:38.849091Z",
     "start_time": "2021-07-21T20:07:38.811057Z"
    }
   },
   "outputs": [
    {
     "name": "stdout",
     "output_type": "stream",
     "text": [
      "setting gamma to  100\n",
      "setting data_dir to  /global/homes/h/huangck/CFS/cosyr_results/test_beam_g100_l200_d200/test_beam_g100_l200_d200_sub_pm200_1e5steps_3000x50_10Mpart\n",
      "setting charge to  1.0000000000000001e-11\n",
      "setting R_bend to  1.0\n",
      "setting pid to  0\n",
      "setting step to  99999\n",
      "setting dt to  0.0001\n",
      "setting traj_type to  2\n",
      "setting load_data_all to  0\n",
      "setting wf_xy_rotate to  0\n",
      "setting wf_xy2polar to  0\n",
      "setting p_beam to  None\n",
      "setting self to  <CosyrAnalyze.CosyrAnalyze object at 0x2aaaebcf16d0>\n"
     ]
    }
   ],
   "source": [
    "# subcycle only result\n",
    "output_path = cosyr_result_root + \"test_beam_g100_l200_d200_sub_pm200_1e5steps_3000x50_10Mpart\"\n",
    "cosyr_2D_g100_l200_sub_only=CosyrAnalyze.CosyrAnalyze(gamma, output_path, charge=beam_charge, pid=particle_id, step = step, load_data_all=0, wf_xy_rotate=0, )\n",
    "cosyr_2D_g100_l200_sub_only.load_wavefronts()\n",
    "cosyr_2D_g100_l200_sub_only.load_cmesh()"
   ]
  },
  {
   "cell_type": "code",
   "execution_count": 4,
   "metadata": {},
   "outputs": [
    {
     "name": "stdout",
     "output_type": "stream",
     "text": [
      "setting gamma to  100\n",
      "setting data_dir to  /global/homes/h/huangck/CFS/cosyr_results/test_beam_g100_l200_d200/test_beam_g100_l200_d200_dyn_1e5steps_3000x50_10Mpart\n",
      "setting charge to  1.0000000000000001e-11\n",
      "setting R_bend to  1.0\n",
      "setting pid to  0\n",
      "setting step to  99999\n",
      "setting dt to  0.0001\n",
      "setting traj_type to  2\n",
      "setting load_data_all to  0\n",
      "setting wf_xy_rotate to  0\n",
      "setting wf_xy2polar to  0\n",
      "setting p_beam to  None\n",
      "setting self to  <CosyrAnalyze.CosyrAnalyze object at 0x2aaaebcf1d00>\n"
     ]
    }
   ],
   "source": [
    "# dynamic only result\n",
    "output_path = cosyr_result_root + \"test_beam_g100_l200_d200_dyn_1e5steps_3000x50_10Mpart\"\n",
    "cosyr_2D_g100_l200_dyn_only=CosyrAnalyze.CosyrAnalyze(gamma, output_path, charge=beam_charge, pid=particle_id, step = step, load_data_all=0, wf_xy_rotate=0, )\n",
    "cosyr_2D_g100_l200_dyn_only.load_wavefronts()\n",
    "cosyr_2D_g100_l200_dyn_only.load_cmesh()"
   ]
  },
  {
   "cell_type": "code",
   "execution_count": 5,
   "metadata": {},
   "outputs": [
    {
     "name": "stdout",
     "output_type": "stream",
     "text": [
      "setting gamma to  100\n",
      "setting data_dir to  /global/homes/h/huangck/CFS/cosyr_results/test_beam_g100_l200_d200/test_beam_g100_l200_d200_dyn_sub_psi0.01_1e5steps_3000x50_10Mpart\n",
      "setting charge to  1.0000000000000001e-11\n",
      "setting R_bend to  1.0\n",
      "setting pid to  0\n",
      "setting step to  99999\n",
      "setting dt to  0.0001\n",
      "setting traj_type to  2\n",
      "setting load_data_all to  0\n",
      "setting wf_xy_rotate to  0\n",
      "setting wf_xy2polar to  0\n",
      "setting p_beam to  None\n",
      "setting self to  <CosyrAnalyze.CosyrAnalyze object at 0x2aaaebcf1820>\n"
     ]
    }
   ],
   "source": [
    "# dynamic + subcycle result\n",
    "output_path = cosyr_result_root + \"test_beam_g100_l200_d200_dyn_sub_psi0.01_1e5steps_3000x50_10Mpart\"\n",
    "cosyr_2D_g100_l200_dyn_sub=CosyrAnalyze.CosyrAnalyze(gamma, output_path, charge=beam_charge, pid=particle_id, step = step, load_data_all=0, wf_xy_rotate=0, )\n",
    "cosyr_2D_g100_l200_dyn_sub.load_wavefronts()\n",
    "cosyr_2D_g100_l200_dyn_sub.load_cmesh()"
   ]
  },
  {
   "cell_type": "markdown",
   "metadata": {},
   "source": [
    "## Load steady-state convolution result"
   ]
  },
  {
   "cell_type": "code",
   "execution_count": 6,
   "metadata": {},
   "outputs": [],
   "source": [
    "normalize_for_per_particle = True\n",
    "\n",
    "# resolution used in the steady-state convolution calculation, in unit of sigma\n",
    "depsilon = 0.06; dalpha = 0.0006\n",
    "#depsilon = 0.24; dalpha = 0.004\n",
    "\n",
    "if (normalize_for_per_particle) : \n",
    "    scaling_coeff = - depsilon*dalpha  * (1 / 2.0 / np.pi) / gamma**4.0\n",
    "else: \n",
    "    scaling_coeff = - depsilon*dalpha  * (N / 2.0 / np.pi) / gamma**4.0\n",
    "\n",
    "\n",
    "# lw-csr result for l200 d200 tilted beam\n",
    "lwcsr_root = \"/global/homes/h/huangck/Work/cosyr_benchmark/\"\n",
    "# 20000x200\n",
    "es_lwcsr = np.load(lwcsr_root + \"es_beam-csr-rad-l-200-d-200-nx-200-nalpha-20000-depsilon-0.06-dalpha-0.0006-gamma-100-theta-0.3-proj-angle-np.zeros_like(alphav).npy\")\n",
    "ex_lwcsr = np.load(lwcsr_root + \"es_beam-csr-rad-l-200-d-200-nx-200-nalpha-20000-depsilon-0.06-dalpha-0.0006-gamma-100-theta-0.3-proj-angle--np.ones_like(alphav)*np.pi_2.0.npy\")\n",
    "bz_lwcsr = np.load(lwcsr_root + \"es_beam-csr-rad-Bz-l-200-d-200-nx-200-nalpha-20000-depsilon-0.06-dalpha-0.0006-gamma-100-theta-0.3-proj-angle--np.ones_like(alphav)*np.pi_2.0.npy\")\n",
    "\n",
    "# 3000x50 \n",
    "#es_lwcsr = np.load(lwcsr_root + \"es_beam-csr-rad-l-200-d-200-nx-50-nalpha-3000-depsilon-0.24-dalpha-0.004-gamma-100-theta-0.3-proj-angle-np.zeros_like(alphav).npy\")\n",
    "#ex_lwcsr = np.load(lwcsr_root + \"es_beam-csr-rad-l-200-d-200-nx-50-nalpha-3000-depsilon-0.24-dalpha-0.004-gamma-100-theta-0.3-proj-angle--np.ones_like(alphav)*np.pi_2.0.npy\")\n",
    "#bz_lwcsr = np.load(lwcsr_root + \"es_beam-csr-rad-Bz-l-200-d-200-nx-50-nalpha-3000-depsilon-0.24-dalpha-0.004-gamma-100-theta-0.3-proj-angle--np.ones_like(alphav)*np.pi_2.0.npy\")\n",
    "\n",
    "\n",
    "es_lwcsr *= scaling_coeff\n",
    "ex_lwcsr *= scaling_coeff\n",
    "bz_lwcsr *= scaling_coeff\n",
    "f_perp_lwcsr = ex_lwcsr - beta*bz_lwcsr\n",
    "\n",
    "nx_lwcsr = es_lwcsr.shape[0]\n",
    "nalpha_lwcsr = es_lwcsr.shape[1]\n",
    "alpha_axis_lwcsr = np.linspace(-200, 200, nalpha_lwcsr)\n",
    "chi_axis_lwcsr = np.linspace(-2, 2, nx_lwcsr)"
   ]
  },
  {
   "cell_type": "code",
   "execution_count": 7,
   "metadata": {},
   "outputs": [
    {
     "data": {
      "application/vnd.jupyter.widget-view+json": {
       "model_id": "49a09f4d46e14370aca7743df4e03f1e",
       "version_major": 2,
       "version_minor": 0
      },
      "text/plain": [
       "Canvas(toolbar=Toolbar(toolitems=[('Home', 'Reset original view', 'home', 'home'), ('Back', 'Back to previous …"
      ]
     },
     "metadata": {},
     "output_type": "display_data"
    }
   ],
   "source": [
    "num_subplots=3\n",
    "fig_lwcsr, axes_lwcsr = plt.subplots(num_subplots,1, figsize=[5.5,4*num_subplots], dpi=120)\n",
    "\n",
    "if (normalize_for_per_particle) :\n",
    "    fld_unit = r\"[eN\\gamma^4/R^2]\"\n",
    "else:\n",
    "    fld_unit = r\"[e\\gamma^4/R^2]\"\n",
    "    \n",
    "fld_names = {\"Bz\":r\"B_{z}^{rad}\",\n",
    "             \"Ex\":r\"E_{x}^{rad}\",\n",
    "             \"Fx\":r\"W_{\\perp}^{rad}\", \n",
    "             \"Es\":r\"W_{s}^{rad}\" }    \n",
    "\n",
    "# longitudinal field\n",
    "ax = axes_lwcsr[0]\n",
    "p1=ax.imshow(es_lwcsr, extent=[alpha_axis_lwcsr[0], alpha_axis_lwcsr[-1],\n",
    "                               chi_axis_lwcsr[0], chi_axis_lwcsr[-1]], \n",
    "             cmap=\"jet\", aspect=\"auto\", origin=\"lower\")\n",
    "p1.set_clim(-2e-3,6e-3)\n",
    "ax.set_xlabel(r'$\\tilde{\\alpha} = \\alpha \\gamma^3$')\n",
    "ax.set_ylabel(r'$\\tilde{\\chi} = \\chi \\gamma^2$')\n",
    "plt.colorbar(p1, ax=ax, label = r\"$\" + fld_names[\"Es\"] + fld_unit + r\"$\")\n",
    "\n",
    "# transverse electric field\n",
    "ax = axes_lwcsr[1]\n",
    "p2=ax.imshow(ex_lwcsr, extent=[alpha_axis_lwcsr[0], alpha_axis_lwcsr[-1],\n",
    "                               chi_axis_lwcsr[0], chi_axis_lwcsr[-1]], \n",
    "             cmap=\"jet\", aspect=\"auto\", origin=\"lower\")\n",
    "#p2.set_clim(-2e-3,6e-3)\n",
    "ax.set_xlabel(r'$\\tilde{\\alpha} = \\alpha \\gamma^3$')\n",
    "ax.set_ylabel(r'$\\tilde{\\chi} = \\chi \\gamma^2$')\n",
    "plt.colorbar(p2, ax=ax, label = r\"$\" + fld_names[\"Ex\"] + fld_unit + r\"$\")\n",
    "\n",
    "# transverse wakefield\n",
    "ax = axes_lwcsr[2]\n",
    "p3=ax.imshow(f_perp_lwcsr, extent=[alpha_axis_lwcsr[0], alpha_axis_lwcsr[-1],\n",
    "                               chi_axis_lwcsr[0], chi_axis_lwcsr[-1]], \n",
    "             cmap=\"jet\", aspect=\"auto\", origin=\"lower\")\n",
    "#p3.set_clim(-2e-3,6e-3)\n",
    "ax.set_xlabel(r'$\\tilde{\\alpha} = \\alpha \\gamma^3$')\n",
    "ax.set_ylabel(r'$\\tilde{\\chi} = \\chi \\gamma^2$')\n",
    "plt.colorbar(p3, ax=ax, label = r\"$\" + fld_names[\"Fx\"] + fld_unit + r\"$\")\n",
    "\n",
    "plt.tight_layout()"
   ]
  },
  {
   "cell_type": "markdown",
   "metadata": {},
   "source": [
    "## 2D plot"
   ]
  },
  {
   "cell_type": "code",
   "execution_count": 8,
   "metadata": {},
   "outputs": [
    {
     "data": {
      "application/vnd.jupyter.widget-view+json": {
       "model_id": "950ae0d09d064c64b68ba7d649687eb1",
       "version_major": 2,
       "version_minor": 0
      },
      "text/plain": [
       "Canvas(toolbar=Toolbar(toolitems=[('Home', 'Reset original view', 'home', 'home'), ('Back', 'Back to previous …"
      ]
     },
     "metadata": {},
     "output_type": "display_data"
    }
   ],
   "source": [
    "#---------------------------------------------\n",
    "\n",
    "data_to_plot = [ cosyr_2D_g100_l200_sub_only,\n",
    "                 cosyr_2D_g100_l200_dyn_only,\n",
    "                 cosyr_2D_g100_l200_dyn_sub\n",
    "                 ]\n",
    "\n",
    "fld_component=\"Es\"\n",
    "\n",
    "titles = [r'sub. only',\n",
    "          r'dyn. only',\n",
    "          r'dyn. + sub.',\n",
    "          r'',\n",
    "            ]\n",
    "\n",
    "do_gradient = False                                                                                                                                                                  \n",
    "\n",
    "convert_unit = False # convert to V or V/m\n",
    "\n",
    "normalize_for_per_particle = True\n",
    "\n",
    "data_limit = []# -2e-3, 6e-3]\n",
    "\n",
    "#---------------------------------------------\n",
    "\n",
    "num_subplots = len(data_to_plot)\n",
    "fig, axes = plt.subplots(num_subplots,1, figsize=[5.5,4*num_subplots], dpi=120)\n",
    "\n",
    "alpha_axis = gamma**3.0 * np.linspace(data_to_plot[0].xlim_cmesh[0], data_to_plot[0].xlim_cmesh[1], nalpha)\n",
    "\n",
    "fld_names = {\"Bz\":r\"B_{z}^{rad}\",\n",
    "             \"Ex\":r\"E_{x}^{rad}\",\n",
    "             \"Fx\":r\"W_{\\perp}^{rad}\", \n",
    "             \"Es\":r\"W_{s}^{rad}\" }\n",
    "\n",
    "if (do_gradient):             \n",
    "    if (convert_unit):\n",
    "        fld_unit = r\"[V/m]\"\n",
    "    else:\n",
    "        if (normalize_for_per_particle) :\n",
    "            fld_unit = r\"[eN\\gamma^4/R^2]\"\n",
    "        else:\n",
    "            fld_unit = r\"[e\\gamma^4/R^2]\"\n",
    "else:\n",
    "    if (convert_unit):\n",
    "        fld_unit = r\"[V]\"\n",
    "    else:\n",
    "        if (normalize_for_per_particle) :\n",
    "            fld_unit = r\"[eN\\gamma^4/R]\"\n",
    "        else:\n",
    "            fld_unit = r\"[e\\gamma^4/R]\"\n",
    "\n",
    "i_plot = 0\n",
    "for data_obj in data_to_plot:\n",
    "    data_components = {\"Bz\":data_obj.cmesh_fld1,\n",
    "                       \"Ex\":data_obj.cmesh_fld2,\n",
    "                       \"Fx\":data_obj.cmesh_fld2- beta*data_obj.cmesh_fld1, \n",
    "                       \"Es\":data_obj.cmesh_fld3 }\n",
    "    data = (data_components[fld_component]).reshape([-1,nchi]).T.copy() \n",
    "    \n",
    "    if (normalize_for_per_particle) : data = data / N\n",
    "    \n",
    "    if (convert_unit) : data *= gamma**4.0 * e_cgs/R_cgs * 3.0e2 # -> statVolt -> Volt \n",
    "        \n",
    "    if (do_gradient) : \n",
    "        data = np.gradient(data, alpha_axis/gamma**3.0, axis=1)\n",
    "        \n",
    "        if (convert_unit) : \n",
    "            data /= R_bend  # in unit of V/m\n",
    "        \n",
    "    if (num_subplots>1) : \n",
    "        ax = axes[i_plot]\n",
    "    else :\n",
    "        ax= axes\n",
    "        \n",
    "    img = ax.imshow(data,aspect=\"auto\",cmap=\"jet\", origin=\"lower\", \\\n",
    "                    extent=[data_obj.xlim_cmesh[0]*gamma**3.0, data_obj.xlim_cmesh[1]*gamma**3.0, data_obj.ylim_cmesh[0]*gamma**2.0, data_obj.ylim_cmesh[1]*gamma**2.0] ,\\\n",
    "                    interpolation=\"bilinear\")\n",
    "\n",
    "    if (data_limit !=[]) :\n",
    "        img.set_clim(data_limit)\n",
    "    ax.title.set_text(titles[i_plot])\n",
    "    #ax.set_xlim(-5e-6,5e-6)\n",
    "    #ax.set_ylim(-2e-4,2e-4)\n",
    "\n",
    "    cb = plt.colorbar(img, ax=ax, format=sci_format())\n",
    "    fld_name = fld_names[fld_component]\n",
    "    cb.set_label(r\"$\" + fld_name + \"\\ \" + fld_unit + \"$\", usetex=False)\n",
    "\n",
    "    ax.xaxis.set_major_formatter(sci_format())\n",
    "    ax.yaxis.set_major_formatter(sci_format())\n",
    "\n",
    "    # hide offset on the axis and move it to the label\n",
    "    ax.figure.canvas.draw()\n",
    "    ax.xaxis.offsetText.set_visible(False)\n",
    "    ax.yaxis.offsetText.set_visible(False)\n",
    "\n",
    "    xoffset = ax.xaxis.get_major_formatter().get_offset()\n",
    "    yoffset = ax.yaxis.get_major_formatter().get_offset()\n",
    "    if (not xoffset==\"\") : xoffset = \" [\" + xoffset + \"]\"\n",
    "    if (not yoffset==\"\") : yoffset = \" [\" + yoffset + \"]\"\n",
    "    #ax.set_xlabel(r'$x\\prime$' + \" [\" + xoffset + \"]\")\n",
    "    #ax.set_ylabel(r'$y\\prime$' + \" [\" + yoffset + \"]\")\n",
    "    ax.set_xlabel(r'$\\tilde{\\alpha} = \\alpha \\gamma^3$' + xoffset)\n",
    "    ax.set_ylabel(r'$\\tilde{\\chi} = \\chi \\gamma^2$' + yoffset)\n",
    "\n",
    "    # overlay beam envelope\n",
    "    beam_env_x, beam_env_y = ellipse(0, 0, [3*sigma_s,3*sigma_x])\n",
    "    ax.plot(beam_env_x, beam_env_y, 'c--') \n",
    "    \n",
    "    i_plot += 1\n",
    "    \n",
    "plt.tight_layout()\n"
   ]
  },
  {
   "cell_type": "markdown",
   "metadata": {},
   "source": [
    "## Lineout comparison"
   ]
  },
  {
   "cell_type": "code",
   "execution_count": 9,
   "metadata": {},
   "outputs": [
    {
     "data": {
      "application/vnd.jupyter.widget-view+json": {
       "model_id": "50a8548c8c0a4f80a369164d96eaf202",
       "version_major": 2,
       "version_minor": 0
      },
      "text/plain": [
       "Canvas(toolbar=Toolbar(toolitems=[('Home', 'Reset original view', 'home', 'home'), ('Back', 'Back to previous …"
      ]
     },
     "metadata": {},
     "output_type": "display_data"
    },
    {
     "name": "stdout",
     "output_type": "stream",
     "text": [
      "i_plot, data shape =  0 (51, 3001)\n",
      "i_plot, data shape =  1 (51, 3001)\n",
      "i_plot, data shape =  2 (51, 3001)\n"
     ]
    }
   ],
   "source": [
    "#---------------------------------------------\n",
    "\n",
    "data_to_plot = [ cosyr_2D_g100_l200_sub_only,\n",
    "                 cosyr_2D_g100_l200_dyn_only,\n",
    "                 cosyr_2D_g100_l200_dyn_sub\n",
    "                 ]\n",
    "\n",
    "fld_component=\"Es\"\n",
    "\n",
    "titles = [r'sub. only',\n",
    "          r'dyn. only',\n",
    "          r'dyn. + sub.'\n",
    "            ]\n",
    "\n",
    "do_gradient = False                                                                                                                                                                  \n",
    "\n",
    "convert_unit = False # convert to V or V/m\n",
    "\n",
    "normalize_for_per_particle = True\n",
    "\n",
    "data_enable = [True, True, True, True, True, False]\n",
    "line_style = [\"-\", \"-.\"] * 4\n",
    "\n",
    "axis_shifts = [0,\n",
    "               0,\n",
    "               0,\n",
    "               0,\n",
    "              ]\n",
    "\n",
    "do_smoothing = False\n",
    "\n",
    "lineout_loc = -1.5 # in sigma\n",
    "\n",
    "pycsr3d_unit = False \n",
    "\n",
    "save_data = False\n",
    "\n",
    "#---------------------------------------------\n",
    "\n",
    "fld_names = {\"Bz\":r\"B_{z}^{rad}\",\n",
    "             \"Ex\":r\"E_{x}^{rad}\",\n",
    "             \"Fx\":r\"W_{\\perp}^{rad}\", \n",
    "             \"Es\":r\"W_{s}^{rad}\" }\n",
    "\n",
    "if (pycsr3d_unit) : \n",
    "    # the conversion factor is Q/(4*pi*epsilon_0) = N * r_e * mc^2[eV] \n",
    "    pycsr3d_factor = beam_charge/4/np.pi/8.85e-12 \n",
    "    print('pycsr3d conversion factor = ', pycsr3d_factor)\n",
    "\n",
    "alpha_axis = gamma**3.0 * np.linspace(data_to_plot[0].xlim_cmesh[0], data_to_plot[0].xlim_cmesh[1], nalpha)\n",
    "\n",
    "num_subplots = len(data_to_plot)\n",
    "fig, axes = plt.subplots(1,1, figsize=[5.5,4], dpi=120)\n",
    "\n",
    "ax = axes\n",
    "i_plot = 0\n",
    "for data_obj in data_to_plot:\n",
    "    axis_shift = axis_shifts[i_plot]\n",
    "    alpha_axis_sigma = (alpha_axis + axis_shift)/sigma_s\n",
    "    if data_enable[i_plot] == False: \n",
    "        i_plot +=1\n",
    "        continue\n",
    "\n",
    "    data_components = {\"Bz\":data_obj.cmesh_fld1,\n",
    "                       \"Ex\":data_obj.cmesh_fld2,\n",
    "                       \"Fx\":data_obj.cmesh_fld2- beta*data_obj.cmesh_fld1, \n",
    "                       \"Es\":data_obj.cmesh_fld3 }   \n",
    "    data = (data_components[fld_component]).reshape([-1,nchi]).T.copy() \n",
    "    \n",
    "    print(\"i_plot, data shape = \", i_plot, data.shape)\n",
    "    nx = data.shape[0]\n",
    "\n",
    "    if (normalize_for_per_particle) : data = data / N\n",
    "    \n",
    "    # for potential\n",
    "    if (convert_unit) : data *= gamma**4.0 * e_cgs/R_cgs * 3.0e2 # -> statVolt -> volt \n",
    "    # for field\n",
    "    #if (convert_unit) : data *= gamma**4.0 * e_cgs/R_cgs/R_cgs * 3.0e4 # -> statVolt/cm -> volt/m \n",
    "        \n",
    "    if (do_gradient) : \n",
    "        data = np.gradient(data, alpha_axis/gamma**3.0, axis=1)\n",
    "        \n",
    "        if (convert_unit) : \n",
    "            data /= R_bend # now in V/m\n",
    "            if (pycsr3d_unit) : data /=pycsr3d_factor\n",
    "    else :    \n",
    "        if (convert_unit) : \n",
    "            if (pycsr3d_unit) : data /= - pycsr3d_factor\n",
    "                \n",
    "    mesh_fld_sm = data[int(nx/2+nx/12*lineout_loc),:] \n",
    "    \n",
    "    sm_label = \"\"\n",
    "    if (do_smoothing) : \n",
    "        mesh_fld_sm=signal.savgol_filter(mesh_fld_sm, 101, 3)\n",
    "        sm_label = \", sm\"\n",
    "    \n",
    "    img = ax.plot(alpha_axis, mesh_fld_sm, ls=line_style[i_plot], lw=1.5, label=r\"CoSyR\" + sm_label + \", \" + titles[i_plot])\n",
    "    if (save_data) :\n",
    "        path=data_obj.data_dir\n",
    "        np.savetxt(path+\"/longitudinal_wake_no_smoothing_lineout_g500_10x10um.csv\", mesh_fld_sm, delimiter=\",\")\n",
    "        np.savetxt(path+\"/longitudinal_wake_lineout_axis_g500_10x10um.csv\", alpha_axis_sigma, delimiter=\",\")\n",
    "        \n",
    "    i_plot += 1\n",
    "\n",
    "\n",
    "# plot convolution result\n",
    "axis_shift = 0\n",
    "\n",
    "lwcsr_components = {\"Bz\":bz_lwcsr,\n",
    "                   \"Ex\":ex_lwcsr,\n",
    "                   \"Fx\":f_perp_lwcsr, \n",
    "                   \"Es\":es_lwcsr }  \n",
    "data_lwcsr = lwcsr_components[fld_component]\n",
    "\n",
    "ax.plot(alpha_axis_lwcsr, data_lwcsr[int(nx_lwcsr/2+nx_lwcsr/12*lineout_loc),:], lw=1.5, label=r\"LW-CSR\")\n",
    "#ax.plot(axis_lwcsr, es_lwcsr[int(25+50/12*0),:], lw=2, label=r\"LW-CSR, $+3\\sigma$\")\n",
    "#ax.plot(axis_lwcsr_3000x50 + axis_shift, es_lwcsr_3000x50_tilt[np.int(25+50/12*3),:]/N, lw=2, label=r\"LW-CSR (3000x50), $-3\\sigma$\")\n",
    "#ax.plot(axis_lwcsr_20000x200 + axis_shift, es_lwcsr_20000x200_notilt[np.int(100+200/12*3),:]/N, lw=2, label=r\"LW-CSR (20000x200), $-3\\sigma$\")\n",
    "#ax.plot(axis_lwcsr, es_lwcsr[np.int(100-200/12*3),:], lw=2, label=r\"LW-CSR, $-3\\sigma$\")\n",
    "#ax.plot(axis_1e5, beam_fld_1e5*np.max(np.abs(mesh_fld_sm)), lw=2, label=r\"analytic\")\n",
    "#plt.plot(axis[::sample_interval],beam_shape[::sample_interval]*2e5, ls=\"dotted\", lw=1.5, label=r\"beam\")\n",
    "\n",
    "# plot labels and format\n",
    "ax.xaxis.set_major_formatter(sci_format())\n",
    "ax.yaxis.set_major_formatter(sci_format())\n",
    "\n",
    "lineout_label = r\"(\\chi=\" + str(lineout_loc)+\"\\sigma)\"\n",
    "ax.set_xlabel(r\"$\\tilde{\\alpha} = \\alpha \\gamma^3$\", usetex=False)\n",
    "if (convert_unit) : \n",
    "    if (pycsr3d_unit) :\n",
    "       ax.set_ylabel(r\"$\" + fld_names[fld_component] + lineout_label + r\"\\ [1/m^2]$\", usetex=False) \n",
    "    else : # in V/m\n",
    "       ax.set_ylabel(r\"$\" + fld_names[fld_component] + lineout_label + r\"\\ [V/m]$\", usetex=False)\n",
    "else :\n",
    "    ax.set_ylabel(r\"$\" + fld_names[fld_component] + lineout_label + r\"\\ [eN\\gamma^4/R^2]$\", usetex=False)\n",
    "\n",
    "ax.set_xlim(-150,150)\n",
    "plt.legend(loc=\"best\", prop={'size': 8})\n",
    "plt.tight_layout()"
   ]
  },
  {
   "cell_type": "markdown",
   "metadata": {},
   "source": [
    "## Plot wavefronts"
   ]
  },
  {
   "cell_type": "code",
   "execution_count": 10,
   "metadata": {},
   "outputs": [
    {
     "data": {
      "application/vnd.jupyter.widget-view+json": {
       "model_id": "1825aaaee90f40a3a88abfde661892d3",
       "version_major": 2,
       "version_minor": 0
      },
      "text/plain": [
       "Canvas(toolbar=Toolbar(toolitems=[('Home', 'Reset original view', 'home', 'home'), ('Back', 'Back to previous …"
      ]
     },
     "metadata": {},
     "output_type": "display_data"
    },
    {
     "name": "stdout",
     "output_type": "stream",
     "text": [
      "data size/min/max= 303000 -2.89928235375 5.1681856475700005\n",
      "data size/min/max= 95000 -8.22434168982 11.6543428293\n",
      "data size/min/max= 244853 -8.22434168982 11.6543428293\n"
     ]
    }
   ],
   "source": [
    "#--------------------------------------------------\n",
    "data_to_plot = [ cosyr_2D_g100_l200_sub_only,\n",
    "                 cosyr_2D_g100_l200_dyn_only,\n",
    "                 cosyr_2D_g100_l200_dyn_sub,\n",
    "                 ]\n",
    "\n",
    "fld_component=\"Es\"\n",
    "\n",
    "titles = [r'sub. only',\n",
    "          r'dyn. only',\n",
    "          r'dyn. + sub.',\n",
    "          r'',\n",
    "            ]\n",
    "data_limit = [-10, 10]\n",
    "\n",
    "#--------------------------------------------------\n",
    "\n",
    "\n",
    "fld_names = {\"Bz\":r\"B_{z}^{rad}\",\n",
    "             \"Ex\":r\"E_{x}^{rad}\",\n",
    "             \"Fx\":r\"W_{\\perp}^{rad}\",\n",
    "             \"Es\":r\"W_{s}^{rad}\" }\n",
    "\n",
    "num_subplots = len(data_to_plot)\n",
    "fig, axes = plt.subplots(num_subplots,1, figsize=[5.5,4*num_subplots], dpi=120)\n",
    "\n",
    "\n",
    "i_plot = 0\n",
    "for data_obj in data_to_plot:\n",
    "    if (num_subplots>1) : \n",
    "        ax = axes[i_plot]\n",
    "    else :\n",
    "        ax= axes\n",
    "        \n",
    "    data_components = {\"Bz\":data_obj.wf_fld1,\n",
    "                       \"Ex\":data_obj.wf_fld2,\n",
    "                       \"Fx\":data_obj.wf_fld2 - beta*data_obj.wf_fld1,\n",
    "                       \"Es\":data_obj.wf_fld3 }   \n",
    "        \n",
    "    filter = np.where((np.abs(data_obj.wf_x ) < 0.5e6) & \n",
    "                      (np.abs(data_obj.wf_y) < 1e5))\n",
    "    wx = data_obj.wf_x[filter]\n",
    "    wy = data_obj.wf_y[filter]\n",
    "    fld = (data_components[fld_component])[filter]\n",
    "    \n",
    "    ax.set_title(titles[i_plot])\n",
    "\n",
    "    sc=ax.scatter(wx, wy, c=fld, marker='o', s=5, cmap=\"jet\")\n",
    "    print(\"data size/min/max=\", fld.size, fld.min(), fld.max())\n",
    "    \n",
    "    #ax.set_xlim(np.array(data_obj.xlim_cmesh)*1)\n",
    "    #ax.set_ylim(np.array(data_obj.ylim_cmesh)*0.25)\n",
    "\n",
    "    cb = plt.colorbar(sc, ax=ax, format=sci_format())\n",
    "    if (data_limit !=[]) :\n",
    "        sc.set_clim(data_limit)    \n",
    "    cb.set_label(r\"$\" + fld_names[fld_component] + r\"\\ [e\\gamma^4/R^2]$\", usetex=False)\n",
    "\n",
    "    ax.xaxis.set_major_formatter(sci_format())\n",
    "    ax.yaxis.set_major_formatter(sci_format())\n",
    "    ax.figure.canvas.draw()\n",
    "    ax.xaxis.offsetText.set_visible(False)\n",
    "    ax.yaxis.offsetText.set_visible(False)\n",
    "\n",
    "    xoffset = ax.xaxis.get_major_formatter().get_offset()\n",
    "    yoffset = ax.yaxis.get_major_formatter().get_offset()\n",
    "    ax.set_xlabel(r'$x\\prime$' + \" [\" + xoffset + \"]\")\n",
    "    ax.set_ylabel(r'$y\\prime$' + \" [\" + yoffset + \"]\")\n",
    "        \n",
    "    i_plot +=1\n",
    "    \n",
    "plt.tight_layout()"
   ]
  }
 ],
 "metadata": {
  "kernelspec": {
   "display_name": "cosyr_jupyter_py38",
   "language": "python",
   "name": "cosyr_jupyter_py38"
  },
  "language_info": {
   "codemirror_mode": {
    "name": "ipython",
    "version": 3
   },
   "file_extension": ".py",
   "mimetype": "text/x-python",
   "name": "python",
   "nbconvert_exporter": "python",
   "pygments_lexer": "ipython3",
   "version": "3.8.10"
  },
  "toc": {
   "base_numbering": 1,
   "nav_menu": {},
   "number_sections": true,
   "sideBar": true,
   "skip_h1_title": false,
   "title_cell": "Table of Contents",
   "title_sidebar": "Contents",
   "toc_cell": false,
   "toc_position": {
    "height": "calc(100% - 180px)",
    "left": "10px",
    "top": "150px",
    "width": "165px"
   },
   "toc_section_display": true,
   "toc_window_display": true
  }
 },
 "nbformat": 4,
 "nbformat_minor": 4
}
